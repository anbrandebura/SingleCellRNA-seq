{
 "cells": [
  {
   "cell_type": "code",
   "execution_count": 17,
   "metadata": {
    "collapsed": true
   },
   "outputs": [],
   "source": [
    "# Import required modules\n",
    "# Python plotting library\n",
    "import matplotlib.pyplot as plt\n",
    "from mpl_toolkits.mplot3d import Axes3D\n",
    "# Numerical python library (pronounced \"num-pie\")\n",
    "import numpy as np\n",
    "# Dataframes in Python\n",
    "import pandas as pd\n",
    "# Statistical plotting library we'll use\n",
    "import seaborn as sns\n",
    "# This is necessary to show the plotted figures inside the notebook -- \"inline\" with the notebook cells\n",
    "%matplotlib inline\n",
    "## Add more when seeing new modules in other notebooks!"
   ]
  },
  {
   "cell_type": "markdown",
   "metadata": {},
   "source": [
    "## I. Top expressed genes "
   ]
  },
  {
   "cell_type": "code",
   "execution_count": 18,
   "metadata": {
    "collapsed": true
   },
   "outputs": [],
   "source": [
    "# Define function GetTopGene() to Rank gene by expression level and get the list of top expressed gene \n",
    "def GetTopGene(mtx, top_num = 200):\n",
    "    \"\"\"\n",
    "    Sort expression level of all genes in a cell, and pick the top expressed genes for each cell. \n",
    "    Make the union list of the top expressed genes.\n",
    "    Usage: gene_list = GetTopGene(mtx, top_num)\n",
    "    Args:\n",
    "        mtx: Gene by cell count matrix\n",
    "        top_num: Number of top expressed genes to be included in the top list. Default = 200\n",
    "    \"\"\"\n",
    "    tglist = []\n",
    "    for name in mtx.columns:\n",
    "        mtx_sorted = mtx.sort_values(by=name, ascending=False)\n",
    "        tglist.extend(list(mtx_sorted.index[0:int(top_num)]))\n",
    "    uniqtopgenes = list(set(tglist))\n",
    "    return uniqtopgenes"
   ]
  },
  {
   "cell_type": "code",
   "execution_count": 27,
   "metadata": {},
   "outputs": [],
   "source": [
    "# Define a function to take care the overall process from reading in files \n",
    "# to saving the matrix with only top expressed genes.\n",
    "def TopGene(inFile, compression=False, index=0, top_num = 200):\n",
    "    \"\"\"\n",
    "    Reading in filtered matrix, run GetTopGene() on the matrix, and save the matrix \n",
    "    with only the top expressed genes to a new file.\n",
    "    Usage: TopGene(inFile)\n",
    "    Args:\n",
    "        inFile: Absolute path of the file containing a filtered cell-by-gene or gene-by-cell matrix\n",
    "        compression: boolean. If True, file will be decompressed when reading in.\n",
    "        index: 0 or 1. Use 0 when the indexes are genes, 1 when it is not.\n",
    "        top_num: Number of top expressed genes to be included in the top list. Default = 200\n",
    "    \"\"\"\n",
    "    # Read in the DGE data sheet\n",
    "    if compression==True:\n",
    "        expression = pd.read_table(inFile, sep=',',index_col=0,compression='gzip')\n",
    "    else:\n",
    "        expression = pd.read_table(inFile, sep=',',index_col=0)\n",
    "    # Convert input file names to output file names\n",
    "    base = inFile.strip(\".mtx\")\n",
    "    out = base + \"_top.mtx\"\n",
    "    print(\"Reading in %s\" % inFile)\n",
    "    if index==1:\n",
    "        expression = expression.T\n",
    "    # Get top genes with GetTopGene()\n",
    "    topgenes = GetTopGene(expression, top_num=100)\n",
    "    # How many genes are included in this gene list?\n",
    "    print(\"%s genes included in topgene list\" % (len(topgenes)))\n",
    "    # Extract matrix with topgenes\n",
    "    topgene_exp = expression.loc[topgenes]\n",
    "    print(\"The shape of the top gene matrix is:\", topgene_exp.shape)\n",
    "    # Save top gene matrix to file\n",
    "    topgene_exp.T.to_csv(out)\n",
    "    print(\"Topgene matrix is saved as %s\" % out)"
   ]
  },
  {
   "cell_type": "code",
   "execution_count": 28,
   "metadata": {},
   "outputs": [
    {
     "name": "stdout",
     "output_type": "stream",
     "text": [
      "Reading in Test_filtered.mtx\n",
      "1456 genes included in topgene list\n",
      "The shape of the top gene matrix is: (1456, 135)\n",
      "Topgene matrix is saved as Test_filtered_top.mtx\n"
     ]
    }
   ],
   "source": [
    "# Run TopGene() on filtered mtx files.\n",
    "TopGene('Test_filtered.mtx', index=1)"
   ]
  },
  {
   "cell_type": "code",
   "execution_count": 29,
   "metadata": {},
   "outputs": [
    {
     "name": "stdout",
     "output_type": "stream",
     "text": [
      "Reading in Test_filtered_lr.mtx\n",
      "260 genes included in topgene list\n",
      "The shape of the top gene matrix is: (260, 135)\n",
      "Topgene matrix is saved as Test_filtered_lr_top.mtx\n"
     ]
    }
   ],
   "source": [
    "TopGene('Test_filtered_lr.mtx', index=1)"
   ]
  },
  {
   "cell_type": "markdown",
   "metadata": {
    "collapsed": true
   },
   "source": [
    "## II. Highly variable genes"
   ]
  },
  {
   "cell_type": "code",
   "execution_count": null,
   "metadata": {
    "collapsed": true
   },
   "outputs": [],
   "source": []
  }
 ],
 "metadata": {
  "kernelspec": {
   "display_name": "Python 3",
   "language": "python",
   "name": "python3"
  },
  "language_info": {
   "codemirror_mode": {
    "name": "ipython",
    "version": 3
   },
   "file_extension": ".py",
   "mimetype": "text/x-python",
   "name": "python",
   "nbconvert_exporter": "python",
   "pygments_lexer": "ipython3",
   "version": "3.6.2"
  }
 },
 "nbformat": 4,
 "nbformat_minor": 2
}
