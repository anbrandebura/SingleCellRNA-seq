{
 "cells": [
  {
   "cell_type": "markdown",
   "metadata": {},
   "source": [
    "# Single Cell RNA-seq analysis: Downsizing of Gene by Cell Matrix (For Drop-seq/InDrop/10xGenomics/Seq-well)"
   ]
  },
  {
   "cell_type": "markdown",
   "metadata": {},
   "source": [
    "## Read in data file and see general expression level distribution"
   ]
  },
  {
   "cell_type": "code",
   "execution_count": 50,
   "metadata": {
    "collapsed": true
   },
   "outputs": [],
   "source": [
    "# Import required modules\n",
    "# Python plotting library\n",
    "import matplotlib.pyplot as plt\n",
    "from mpl_toolkits.mplot3d import Axes3D\n",
    "# Numerical python library (pronounced \"num-pie\")\n",
    "import numpy as np\n",
    "# Dataframes in Python\n",
    "import pandas as pd\n",
    "# Statistical plotting library we'll use\n",
    "import seaborn as sns\n",
    "# This is necessary to show the plotted figures inside the notebook -- \"inline\" with the notebook cells\n",
    "%matplotlib inline\n",
    "## Add more when seeing new modules in other notebooks!\n"
   ]
  },
  {
   "cell_type": "code",
   "execution_count": null,
   "metadata": {},
   "outputs": [],
   "source": [
    "# Read in the DGE data sheet\n",
    "expression = pd.read_table('PathToMatrixFile', \n",
    "                               \n",
    "                                     # Sets the first (Python starts counting from 0 not 1) column as the row names\n",
    "                                     index_col=0, \n",
    "\n",
    "                                     # Tells pandas to decompress the gzipped file if required\n",
    "                                     compression='gzip')\n",
    "# Print out the shape and the top 5 rows of the newly assigned dataframe\n",
    "print(expression.shape)\n",
    "expression.head()"
   ]
  },
  {
   "cell_type": "code",
   "execution_count": null,
   "metadata": {},
   "outputs": [],
   "source": [
    "# See the raw distributions of data\n",
    "## e.g. for gene as row name and cell as column name:\n",
    "## See the distribution of gene expression level within one cell for each of the cells listed?\n",
    "sns.boxplot(expression)\n",
    "## Get current figure, then save to file\n",
    "#fig = plt.gcf()\n",
    "#fig.savefig(NameOfFigure)\n"
   ]
  },
  {
   "cell_type": "code",
   "execution_count": null,
   "metadata": {},
   "outputs": [],
   "source": [
    "# Log transform the data if needed\n",
    "expression_logged = np.log2(expression+1)\n",
    "expression_logged.head()"
   ]
  },
  {
   "cell_type": "code",
   "execution_count": null,
   "metadata": {},
   "outputs": [],
   "source": [
    "# Plot log transformed data with a designated size\n",
    "fig, ax=plt.subplots(figsize = (10,5))\n",
    "sns.boxplot(expression_logged)\n",
    "\n",
    "# gcf = Get current figure\n",
    "#fig = plt.gcf()\n",
    "#fig.savefig(NameOfFigure)"
   ]
  },
  {
   "cell_type": "markdown",
   "metadata": {},
   "source": [
    "## Determine the cut-off lines for genes and cells\n",
    "* Genes:\n",
    "    * Remove genes with no expression in any cells\n",
    "    * Calculate the number of genes left for each number of transcript need to be detected in at least what number of cells\n",
    "    _When the computation power is high enough, don't worry about the dimensions (number of genes). Otherwise, may need to cut the number down to 3000_\n",
    "* Cells:\n",
    "    * Both low and high expression should be removed\n",
    "    * Low: smaller than certain number of genes detected (e.g. 1000)\n",
    "    * High: Look at the distribution of aggregate expression level across all cells. If it shows as bimodal, it is likely that the right hand side peak represents doublets.\n",
    "    "
   ]
  },
  {
   "cell_type": "code",
   "execution_count": null,
   "metadata": {},
   "outputs": [],
   "source": [
    "# Apply filtering for genes and cells\n",
    "## Remove no-expression genes\n",
    "mask0exp = expression.sum(axis=1) > 0\n",
    "exp0rmd = expression[mask0exp]\n",
    "print(exp0rmd.shape)\n",
    "exp0rmd.head()"
   ]
  },
  {
   "cell_type": "code",
   "execution_count": 22,
   "metadata": {},
   "outputs": [],
   "source": [
    "# Estimate number of gene left for different filtering criteria\n",
    "# Define a function for calculation\n",
    "def numGene(mtx,reads_num=5, cell_num=50):\n",
    "    \"\"\"\n",
    "    Estimate number of gene left by applying different filtering criteria. \n",
    "    For each pair of expression reads and cell number, calculate the genes that can \n",
    "    pass the criteria of have A number of reads detected in at least more than \n",
    "    B number of cells.\n",
    "    Usage: numGene(reads_num, cell_num,mtx)\n",
    "    Args: \n",
    "        reads_num is the upper number of expression level will be tested (count by 1).\n",
    "        cell_num is the upper number of cell number will be set as threshold (count by 10).\n",
    "        mtx is the data matrix input gene X cell\n",
    "    \"\"\"\n",
    "    expreads = list(range(0,reads_num))\n",
    "    cellnum = list(range(10,cell_num + 1,10))\n",
    "    genenumdict = {}\n",
    "    for i in expreads:\n",
    "        z = []\n",
    "        for j in cellnum:\n",
    "            gmask = (mtx > i).sum(axis=1) >= j\n",
    "            genenum = gmask.sum()\n",
    "            z.append(genenum)\n",
    "        genenumdict[i] = z\n",
    "    return genenumdict"
   ]
  },
  {
   "cell_type": "code",
   "execution_count": 23,
   "metadata": {
    "collapsed": true
   },
   "outputs": [],
   "source": [
    "# Run numGene() on the matrix\n",
    "genenumdict = numGene(expression)"
   ]
  },
  {
   "cell_type": "code",
   "execution_count": null,
   "metadata": {},
   "outputs": [],
   "source": [
    "# See how the output gene number estimation looks\n",
    "genenumdict"
   ]
  },
  {
   "cell_type": "code",
   "execution_count": 51,
   "metadata": {},
   "outputs": [],
   "source": [
    "# Define a function to plot 3D distribution of the gene number\n",
    "def plotnumGene(genenumdict, reads_num=5, cell_num=50):\n",
    "    cellnum = list(range(10,cell_num + 1,10))\n",
    "    x = np.asarray(cellnum)\n",
    "    fig = plt.figure(figsize=(10, 10))\n",
    "    ax = fig.add_subplot(111, projection='3d')\n",
    "    for i in sorted(genenumdict):\n",
    "        y = np.ones(x.size)*i\n",
    "        z = genenumdict[i]\n",
    "        color_code = (i+0.1)/reads_num\n",
    "        ax.plot(y,x,z)\n",
    "    plt.show()\n",
    "    return"
   ]
  },
  {
   "cell_type": "code",
   "execution_count": null,
   "metadata": {},
   "outputs": [],
   "source": [
    "# Run plotnumGene() to plot\n",
    "plotnumGene(numGene(expression))"
   ]
  }
 ],
 "metadata": {
  "kernelspec": {
   "display_name": "Python 3",
   "language": "python",
   "name": "python3"
  },
  "language_info": {
   "codemirror_mode": {
    "name": "ipython",
    "version": 3
   },
   "file_extension": ".py",
   "mimetype": "text/x-python",
   "name": "python",
   "nbconvert_exporter": "python",
   "pygments_lexer": "ipython3",
   "version": "3.6.1"
  }
 },
 "nbformat": 4,
 "nbformat_minor": 2
}
